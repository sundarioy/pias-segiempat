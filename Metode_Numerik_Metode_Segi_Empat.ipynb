{
  "nbformat": 4,
  "nbformat_minor": 0,
  "metadata": {
    "colab": {
      "name": "Metode Numerik - Metode Segi Empat.ipynb",
      "provenance": [],
      "collapsed_sections": [],
      "authorship_tag": "ABX9TyOmnRaTlr7oOv+VmXJCb1UQ",
      "include_colab_link": true
    },
    "kernelspec": {
      "display_name": "Python 3",
      "name": "python3"
    },
    "language_info": {
      "name": "python"
    }
  },
  "cells": [
    {
      "cell_type": "markdown",
      "metadata": {
        "id": "view-in-github",
        "colab_type": "text"
      },
      "source": [
        "<a href=\"https://colab.research.google.com/github/sundarioy/pias-segiempat/blob/main/Metode_Numerik_Metode_Segi_Empat.ipynb\" target=\"_parent\"><img src=\"https://colab.research.google.com/assets/colab-badge.svg\" alt=\"Open In Colab\"/></a>"
      ]
    },
    {
      "cell_type": "markdown",
      "metadata": {
        "id": "oKfhHpnT-ZEK"
      },
      "source": [
        "Kelompok : 8\n",
        "\n",
        "Anggota : - Kelvin Arta Santosa (105217042)\n",
        "          - Sundari Oktamiyunda (105218010)\n",
        "          - Alvian Fahrian S. (105218042)  "
      ]
    },
    {
      "cell_type": "markdown",
      "metadata": {
        "id": "uhuUdvHXsBOM"
      },
      "source": [
        "### 1. Impor Library"
      ]
    },
    {
      "cell_type": "code",
      "metadata": {
        "id": "pu73-8Jk4QJ-"
      },
      "source": [
        "from bs4 import BeautifulSoup\n",
        "import shlex\n",
        "import pandas as pd\n",
        "from math import sin, cos, sqrt, atan2, radians\n",
        "import matplotlib.pyplot as plt\n",
        "%matplotlib inline"
      ],
      "execution_count": 2,
      "outputs": []
    },
    {
      "cell_type": "markdown",
      "metadata": {
        "id": "gMGg2UeKsH8q"
      },
      "source": [
        "### 2. Load Data"
      ]
    },
    {
      "cell_type": "code",
      "metadata": {
        "id": "MkBk2L7x4YUn"
      },
      "source": [
        "infile = open(str(\"Rawa_Simprug.kml\"),\"r\")\n",
        "contents = infile.read()"
      ],
      "execution_count": 3,
      "outputs": []
    },
    {
      "cell_type": "code",
      "metadata": {
        "id": "3SvUL1PS4eT9"
      },
      "source": [
        "soup = BeautifulSoup(contents,'xml')\n",
        "titles = soup.find_all(str(\"coordinates\"))"
      ],
      "execution_count": 4,
      "outputs": []
    },
    {
      "cell_type": "code",
      "metadata": {
        "colab": {
          "base_uri": "https://localhost:8080/"
        },
        "id": "CrMJPz618lcQ",
        "outputId": "2c360b5c-5f0f-4735-c2af-17ae84262120"
      },
      "source": [
        "titles[0:1][0:1000]"
      ],
      "execution_count": 5,
      "outputs": [
        {
          "output_type": "execute_result",
          "data": {
            "text/plain": [
              "[<coordinates>\n",
              "               106.7838775,-6.2264557,0\n",
              "               106.7838024,-6.2267863,0\n",
              "               106.7838132,-6.2269996,0\n",
              "               106.7837595,-6.2274156,0\n",
              "               106.7837273,-6.2276929,0\n",
              "               106.7836952,-6.2278955,0\n",
              "               106.7836844,-6.2280235,0\n",
              "               106.783663,-6.2282155,0\n",
              "               106.7836308,-6.2283328,0\n",
              "               106.7836522,-6.2284821,0\n",
              "               106.7836522,-6.2286101,0\n",
              "               106.7837166,-6.2287701,0\n",
              "               106.7837488,-6.2289727,0\n",
              "               106.7838239,-6.229218,0\n",
              "               106.7838883,-6.22941,0\n",
              "               106.7839205,-6.2295807,0\n",
              "               106.784017,-6.2296767,0\n",
              "               106.7842423,-6.229698,0\n",
              "               106.7843925,-6.229634,0\n",
              "               106.7846178,-6.2296447,0\n",
              "               106.7848646,-6.2296447,0\n",
              "               106.7851865,-6.2295593,0\n",
              "               106.7852616,-6.2293994,0\n",
              "               106.7852401,-6.2291647,0\n",
              "               106.7851865,-6.2289941,0\n",
              "               106.7851757,-6.2288127,0\n",
              "               106.7852294,-6.2285568,0\n",
              "               106.7853259,-6.2283648,0\n",
              "               106.7853474,-6.2281942,0\n",
              "               106.7853152,-6.2279382,0\n",
              "               106.7852616,-6.2277782,0\n",
              "               106.7853152,-6.2275329,0\n",
              "               106.7853152,-6.2273089,0\n",
              "               106.7853474,-6.2271276,0\n",
              "               106.785283,-6.2269996,0\n",
              "               106.7852079,-6.2268823,0\n",
              "               106.7851221,-6.2267116,0\n",
              "               106.7849826,-6.226573,0\n",
              "               106.7848646,-6.226349,0\n",
              "               106.7846929,-6.2263597,0\n",
              "               106.7845427,-6.226413,0\n",
              "               106.7843711,-6.2264557,0\n",
              "               106.7842101,-6.2264557,0\n",
              "               106.7840707,-6.2264557,0\n",
              "               106.7838775,-6.2264557,0\n",
              "             </coordinates>]"
            ]
          },
          "metadata": {
            "tags": []
          },
          "execution_count": 5
        }
      ]
    },
    {
      "cell_type": "code",
      "metadata": {
        "colab": {
          "base_uri": "https://localhost:8080/"
        },
        "id": "SIXZcFAey11K",
        "outputId": "7bbbc92f-018e-4bc5-887c-c80e730fbedb"
      },
      "source": [
        "type(titles)"
      ],
      "execution_count": 6,
      "outputs": [
        {
          "output_type": "execute_result",
          "data": {
            "text/plain": [
              "bs4.element.ResultSet"
            ]
          },
          "metadata": {
            "tags": []
          },
          "execution_count": 6
        }
      ]
    },
    {
      "cell_type": "code",
      "metadata": {
        "id": "z1PY_XxT4gwr"
      },
      "source": [
        "coor=[]\n",
        "for title in titles:\n",
        "            coor.append(title.get_text())"
      ],
      "execution_count": 7,
      "outputs": []
    },
    {
      "cell_type": "code",
      "metadata": {
        "colab": {
          "base_uri": "https://localhost:8080/"
        },
        "id": "QXWUym6Q4mv_",
        "outputId": "6819066b-511c-499f-f0a9-ded9083b3b07"
      },
      "source": [
        "coor[0:10][0:]"
      ],
      "execution_count": 8,
      "outputs": [
        {
          "output_type": "execute_result",
          "data": {
            "text/plain": [
              "['\\n              106.7838775,-6.2264557,0\\n              106.7838024,-6.2267863,0\\n              106.7838132,-6.2269996,0\\n              106.7837595,-6.2274156,0\\n              106.7837273,-6.2276929,0\\n              106.7836952,-6.2278955,0\\n              106.7836844,-6.2280235,0\\n              106.783663,-6.2282155,0\\n              106.7836308,-6.2283328,0\\n              106.7836522,-6.2284821,0\\n              106.7836522,-6.2286101,0\\n              106.7837166,-6.2287701,0\\n              106.7837488,-6.2289727,0\\n              106.7838239,-6.229218,0\\n              106.7838883,-6.22941,0\\n              106.7839205,-6.2295807,0\\n              106.784017,-6.2296767,0\\n              106.7842423,-6.229698,0\\n              106.7843925,-6.229634,0\\n              106.7846178,-6.2296447,0\\n              106.7848646,-6.2296447,0\\n              106.7851865,-6.2295593,0\\n              106.7852616,-6.2293994,0\\n              106.7852401,-6.2291647,0\\n              106.7851865,-6.2289941,0\\n              106.7851757,-6.2288127,0\\n              106.7852294,-6.2285568,0\\n              106.7853259,-6.2283648,0\\n              106.7853474,-6.2281942,0\\n              106.7853152,-6.2279382,0\\n              106.7852616,-6.2277782,0\\n              106.7853152,-6.2275329,0\\n              106.7853152,-6.2273089,0\\n              106.7853474,-6.2271276,0\\n              106.785283,-6.2269996,0\\n              106.7852079,-6.2268823,0\\n              106.7851221,-6.2267116,0\\n              106.7849826,-6.226573,0\\n              106.7848646,-6.226349,0\\n              106.7846929,-6.2263597,0\\n              106.7845427,-6.226413,0\\n              106.7843711,-6.2264557,0\\n              106.7842101,-6.2264557,0\\n              106.7840707,-6.2264557,0\\n              106.7838775,-6.2264557,0\\n            ']"
            ]
          },
          "metadata": {
            "tags": []
          },
          "execution_count": 8
        }
      ]
    },
    {
      "cell_type": "markdown",
      "metadata": {
        "id": "mXIo0MlIs5Zd"
      },
      "source": [
        "### 3. Formating Data"
      ]
    },
    {
      "cell_type": "code",
      "metadata": {
        "id": "1AAHBEmY4sKK"
      },
      "source": [
        "liste_0 =[]\n",
        "for i in range(len(coor)):\n",
        "    a = shlex.split(coor[i], posix=False)\n",
        "    liste_0.append(a)"
      ],
      "execution_count": 9,
      "outputs": []
    },
    {
      "cell_type": "code",
      "metadata": {
        "colab": {
          "base_uri": "https://localhost:8080/"
        },
        "id": "wlDdKcdE4vCR",
        "outputId": "a4174cfe-431e-456a-dd0b-fa4950d577e6"
      },
      "source": [
        "liste_0[0:3][0:10]"
      ],
      "execution_count": 10,
      "outputs": [
        {
          "output_type": "execute_result",
          "data": {
            "text/plain": [
              "[['106.7838775,-6.2264557,0',\n",
              "  '106.7838024,-6.2267863,0',\n",
              "  '106.7838132,-6.2269996,0',\n",
              "  '106.7837595,-6.2274156,0',\n",
              "  '106.7837273,-6.2276929,0',\n",
              "  '106.7836952,-6.2278955,0',\n",
              "  '106.7836844,-6.2280235,0',\n",
              "  '106.783663,-6.2282155,0',\n",
              "  '106.7836308,-6.2283328,0',\n",
              "  '106.7836522,-6.2284821,0',\n",
              "  '106.7836522,-6.2286101,0',\n",
              "  '106.7837166,-6.2287701,0',\n",
              "  '106.7837488,-6.2289727,0',\n",
              "  '106.7838239,-6.229218,0',\n",
              "  '106.7838883,-6.22941,0',\n",
              "  '106.7839205,-6.2295807,0',\n",
              "  '106.784017,-6.2296767,0',\n",
              "  '106.7842423,-6.229698,0',\n",
              "  '106.7843925,-6.229634,0',\n",
              "  '106.7846178,-6.2296447,0',\n",
              "  '106.7848646,-6.2296447,0',\n",
              "  '106.7851865,-6.2295593,0',\n",
              "  '106.7852616,-6.2293994,0',\n",
              "  '106.7852401,-6.2291647,0',\n",
              "  '106.7851865,-6.2289941,0',\n",
              "  '106.7851757,-6.2288127,0',\n",
              "  '106.7852294,-6.2285568,0',\n",
              "  '106.7853259,-6.2283648,0',\n",
              "  '106.7853474,-6.2281942,0',\n",
              "  '106.7853152,-6.2279382,0',\n",
              "  '106.7852616,-6.2277782,0',\n",
              "  '106.7853152,-6.2275329,0',\n",
              "  '106.7853152,-6.2273089,0',\n",
              "  '106.7853474,-6.2271276,0',\n",
              "  '106.785283,-6.2269996,0',\n",
              "  '106.7852079,-6.2268823,0',\n",
              "  '106.7851221,-6.2267116,0',\n",
              "  '106.7849826,-6.226573,0',\n",
              "  '106.7848646,-6.226349,0',\n",
              "  '106.7846929,-6.2263597,0',\n",
              "  '106.7845427,-6.226413,0',\n",
              "  '106.7843711,-6.2264557,0',\n",
              "  '106.7842101,-6.2264557,0',\n",
              "  '106.7840707,-6.2264557,0',\n",
              "  '106.7838775,-6.2264557,0']]"
            ]
          },
          "metadata": {
            "tags": []
          },
          "execution_count": 10
        }
      ]
    },
    {
      "cell_type": "code",
      "metadata": {
        "colab": {
          "base_uri": "https://localhost:8080/"
        },
        "id": "WIzPDjgd6DuH",
        "outputId": "1942f049-d1ef-4a85-b066-7c3fea9fc3ef"
      },
      "source": [
        "flatList = [ item for elem in liste_0 for item in elem]\n",
        "flatList"
      ],
      "execution_count": 11,
      "outputs": [
        {
          "output_type": "execute_result",
          "data": {
            "text/plain": [
              "['106.7838775,-6.2264557,0',\n",
              " '106.7838024,-6.2267863,0',\n",
              " '106.7838132,-6.2269996,0',\n",
              " '106.7837595,-6.2274156,0',\n",
              " '106.7837273,-6.2276929,0',\n",
              " '106.7836952,-6.2278955,0',\n",
              " '106.7836844,-6.2280235,0',\n",
              " '106.783663,-6.2282155,0',\n",
              " '106.7836308,-6.2283328,0',\n",
              " '106.7836522,-6.2284821,0',\n",
              " '106.7836522,-6.2286101,0',\n",
              " '106.7837166,-6.2287701,0',\n",
              " '106.7837488,-6.2289727,0',\n",
              " '106.7838239,-6.229218,0',\n",
              " '106.7838883,-6.22941,0',\n",
              " '106.7839205,-6.2295807,0',\n",
              " '106.784017,-6.2296767,0',\n",
              " '106.7842423,-6.229698,0',\n",
              " '106.7843925,-6.229634,0',\n",
              " '106.7846178,-6.2296447,0',\n",
              " '106.7848646,-6.2296447,0',\n",
              " '106.7851865,-6.2295593,0',\n",
              " '106.7852616,-6.2293994,0',\n",
              " '106.7852401,-6.2291647,0',\n",
              " '106.7851865,-6.2289941,0',\n",
              " '106.7851757,-6.2288127,0',\n",
              " '106.7852294,-6.2285568,0',\n",
              " '106.7853259,-6.2283648,0',\n",
              " '106.7853474,-6.2281942,0',\n",
              " '106.7853152,-6.2279382,0',\n",
              " '106.7852616,-6.2277782,0',\n",
              " '106.7853152,-6.2275329,0',\n",
              " '106.7853152,-6.2273089,0',\n",
              " '106.7853474,-6.2271276,0',\n",
              " '106.785283,-6.2269996,0',\n",
              " '106.7852079,-6.2268823,0',\n",
              " '106.7851221,-6.2267116,0',\n",
              " '106.7849826,-6.226573,0',\n",
              " '106.7848646,-6.226349,0',\n",
              " '106.7846929,-6.2263597,0',\n",
              " '106.7845427,-6.226413,0',\n",
              " '106.7843711,-6.2264557,0',\n",
              " '106.7842101,-6.2264557,0',\n",
              " '106.7840707,-6.2264557,0',\n",
              " '106.7838775,-6.2264557,0']"
            ]
          },
          "metadata": {
            "tags": []
          },
          "execution_count": 11
        }
      ]
    },
    {
      "cell_type": "code",
      "metadata": {
        "id": "xZGbSPsn41_G"
      },
      "source": [
        "df_0 = pd.DataFrame(flatList)"
      ],
      "execution_count": 12,
      "outputs": []
    },
    {
      "cell_type": "code",
      "metadata": {
        "colab": {
          "base_uri": "https://localhost:8080/",
          "height": 677
        },
        "id": "hwlEDcFU45ub",
        "outputId": "95da8746-fa32-450d-a85e-f7c2ba98a028"
      },
      "source": [
        "df_0.head(20)"
      ],
      "execution_count": 13,
      "outputs": [
        {
          "output_type": "execute_result",
          "data": {
            "text/html": [
              "<div>\n",
              "<style scoped>\n",
              "    .dataframe tbody tr th:only-of-type {\n",
              "        vertical-align: middle;\n",
              "    }\n",
              "\n",
              "    .dataframe tbody tr th {\n",
              "        vertical-align: top;\n",
              "    }\n",
              "\n",
              "    .dataframe thead th {\n",
              "        text-align: right;\n",
              "    }\n",
              "</style>\n",
              "<table border=\"1\" class=\"dataframe\">\n",
              "  <thead>\n",
              "    <tr style=\"text-align: right;\">\n",
              "      <th></th>\n",
              "      <th>0</th>\n",
              "    </tr>\n",
              "  </thead>\n",
              "  <tbody>\n",
              "    <tr>\n",
              "      <th>0</th>\n",
              "      <td>106.7838775,-6.2264557,0</td>\n",
              "    </tr>\n",
              "    <tr>\n",
              "      <th>1</th>\n",
              "      <td>106.7838024,-6.2267863,0</td>\n",
              "    </tr>\n",
              "    <tr>\n",
              "      <th>2</th>\n",
              "      <td>106.7838132,-6.2269996,0</td>\n",
              "    </tr>\n",
              "    <tr>\n",
              "      <th>3</th>\n",
              "      <td>106.7837595,-6.2274156,0</td>\n",
              "    </tr>\n",
              "    <tr>\n",
              "      <th>4</th>\n",
              "      <td>106.7837273,-6.2276929,0</td>\n",
              "    </tr>\n",
              "    <tr>\n",
              "      <th>5</th>\n",
              "      <td>106.7836952,-6.2278955,0</td>\n",
              "    </tr>\n",
              "    <tr>\n",
              "      <th>6</th>\n",
              "      <td>106.7836844,-6.2280235,0</td>\n",
              "    </tr>\n",
              "    <tr>\n",
              "      <th>7</th>\n",
              "      <td>106.783663,-6.2282155,0</td>\n",
              "    </tr>\n",
              "    <tr>\n",
              "      <th>8</th>\n",
              "      <td>106.7836308,-6.2283328,0</td>\n",
              "    </tr>\n",
              "    <tr>\n",
              "      <th>9</th>\n",
              "      <td>106.7836522,-6.2284821,0</td>\n",
              "    </tr>\n",
              "    <tr>\n",
              "      <th>10</th>\n",
              "      <td>106.7836522,-6.2286101,0</td>\n",
              "    </tr>\n",
              "    <tr>\n",
              "      <th>11</th>\n",
              "      <td>106.7837166,-6.2287701,0</td>\n",
              "    </tr>\n",
              "    <tr>\n",
              "      <th>12</th>\n",
              "      <td>106.7837488,-6.2289727,0</td>\n",
              "    </tr>\n",
              "    <tr>\n",
              "      <th>13</th>\n",
              "      <td>106.7838239,-6.229218,0</td>\n",
              "    </tr>\n",
              "    <tr>\n",
              "      <th>14</th>\n",
              "      <td>106.7838883,-6.22941,0</td>\n",
              "    </tr>\n",
              "    <tr>\n",
              "      <th>15</th>\n",
              "      <td>106.7839205,-6.2295807,0</td>\n",
              "    </tr>\n",
              "    <tr>\n",
              "      <th>16</th>\n",
              "      <td>106.784017,-6.2296767,0</td>\n",
              "    </tr>\n",
              "    <tr>\n",
              "      <th>17</th>\n",
              "      <td>106.7842423,-6.229698,0</td>\n",
              "    </tr>\n",
              "    <tr>\n",
              "      <th>18</th>\n",
              "      <td>106.7843925,-6.229634,0</td>\n",
              "    </tr>\n",
              "    <tr>\n",
              "      <th>19</th>\n",
              "      <td>106.7846178,-6.2296447,0</td>\n",
              "    </tr>\n",
              "  </tbody>\n",
              "</table>\n",
              "</div>"
            ],
            "text/plain": [
              "                           0\n",
              "0   106.7838775,-6.2264557,0\n",
              "1   106.7838024,-6.2267863,0\n",
              "2   106.7838132,-6.2269996,0\n",
              "3   106.7837595,-6.2274156,0\n",
              "4   106.7837273,-6.2276929,0\n",
              "5   106.7836952,-6.2278955,0\n",
              "6   106.7836844,-6.2280235,0\n",
              "7    106.783663,-6.2282155,0\n",
              "8   106.7836308,-6.2283328,0\n",
              "9   106.7836522,-6.2284821,0\n",
              "10  106.7836522,-6.2286101,0\n",
              "11  106.7837166,-6.2287701,0\n",
              "12  106.7837488,-6.2289727,0\n",
              "13   106.7838239,-6.229218,0\n",
              "14    106.7838883,-6.22941,0\n",
              "15  106.7839205,-6.2295807,0\n",
              "16   106.784017,-6.2296767,0\n",
              "17   106.7842423,-6.229698,0\n",
              "18   106.7843925,-6.229634,0\n",
              "19  106.7846178,-6.2296447,0"
            ]
          },
          "metadata": {
            "tags": []
          },
          "execution_count": 13
        }
      ]
    },
    {
      "cell_type": "code",
      "metadata": {
        "id": "doyebSmy8qBQ"
      },
      "source": [
        "df_0.columns = [\"column\"]\n",
        "df_0[['Lat', 'Long', 'Alt']] = df_0.column.str.split(\",\",expand=True)"
      ],
      "execution_count": 14,
      "outputs": []
    },
    {
      "cell_type": "code",
      "metadata": {
        "colab": {
          "base_uri": "https://localhost:8080/",
          "height": 363
        },
        "id": "6hpoKqbW9kvN",
        "outputId": "eaf8c407-7bf8-487f-beb5-027beaaf1576"
      },
      "source": [
        "df_0.head(10)"
      ],
      "execution_count": 15,
      "outputs": [
        {
          "output_type": "execute_result",
          "data": {
            "text/html": [
              "<div>\n",
              "<style scoped>\n",
              "    .dataframe tbody tr th:only-of-type {\n",
              "        vertical-align: middle;\n",
              "    }\n",
              "\n",
              "    .dataframe tbody tr th {\n",
              "        vertical-align: top;\n",
              "    }\n",
              "\n",
              "    .dataframe thead th {\n",
              "        text-align: right;\n",
              "    }\n",
              "</style>\n",
              "<table border=\"1\" class=\"dataframe\">\n",
              "  <thead>\n",
              "    <tr style=\"text-align: right;\">\n",
              "      <th></th>\n",
              "      <th>column</th>\n",
              "      <th>Lat</th>\n",
              "      <th>Long</th>\n",
              "      <th>Alt</th>\n",
              "    </tr>\n",
              "  </thead>\n",
              "  <tbody>\n",
              "    <tr>\n",
              "      <th>0</th>\n",
              "      <td>106.7838775,-6.2264557,0</td>\n",
              "      <td>106.7838775</td>\n",
              "      <td>-6.2264557</td>\n",
              "      <td>0</td>\n",
              "    </tr>\n",
              "    <tr>\n",
              "      <th>1</th>\n",
              "      <td>106.7838024,-6.2267863,0</td>\n",
              "      <td>106.7838024</td>\n",
              "      <td>-6.2267863</td>\n",
              "      <td>0</td>\n",
              "    </tr>\n",
              "    <tr>\n",
              "      <th>2</th>\n",
              "      <td>106.7838132,-6.2269996,0</td>\n",
              "      <td>106.7838132</td>\n",
              "      <td>-6.2269996</td>\n",
              "      <td>0</td>\n",
              "    </tr>\n",
              "    <tr>\n",
              "      <th>3</th>\n",
              "      <td>106.7837595,-6.2274156,0</td>\n",
              "      <td>106.7837595</td>\n",
              "      <td>-6.2274156</td>\n",
              "      <td>0</td>\n",
              "    </tr>\n",
              "    <tr>\n",
              "      <th>4</th>\n",
              "      <td>106.7837273,-6.2276929,0</td>\n",
              "      <td>106.7837273</td>\n",
              "      <td>-6.2276929</td>\n",
              "      <td>0</td>\n",
              "    </tr>\n",
              "    <tr>\n",
              "      <th>5</th>\n",
              "      <td>106.7836952,-6.2278955,0</td>\n",
              "      <td>106.7836952</td>\n",
              "      <td>-6.2278955</td>\n",
              "      <td>0</td>\n",
              "    </tr>\n",
              "    <tr>\n",
              "      <th>6</th>\n",
              "      <td>106.7836844,-6.2280235,0</td>\n",
              "      <td>106.7836844</td>\n",
              "      <td>-6.2280235</td>\n",
              "      <td>0</td>\n",
              "    </tr>\n",
              "    <tr>\n",
              "      <th>7</th>\n",
              "      <td>106.783663,-6.2282155,0</td>\n",
              "      <td>106.783663</td>\n",
              "      <td>-6.2282155</td>\n",
              "      <td>0</td>\n",
              "    </tr>\n",
              "    <tr>\n",
              "      <th>8</th>\n",
              "      <td>106.7836308,-6.2283328,0</td>\n",
              "      <td>106.7836308</td>\n",
              "      <td>-6.2283328</td>\n",
              "      <td>0</td>\n",
              "    </tr>\n",
              "    <tr>\n",
              "      <th>9</th>\n",
              "      <td>106.7836522,-6.2284821,0</td>\n",
              "      <td>106.7836522</td>\n",
              "      <td>-6.2284821</td>\n",
              "      <td>0</td>\n",
              "    </tr>\n",
              "  </tbody>\n",
              "</table>\n",
              "</div>"
            ],
            "text/plain": [
              "                     column          Lat        Long Alt\n",
              "0  106.7838775,-6.2264557,0  106.7838775  -6.2264557   0\n",
              "1  106.7838024,-6.2267863,0  106.7838024  -6.2267863   0\n",
              "2  106.7838132,-6.2269996,0  106.7838132  -6.2269996   0\n",
              "3  106.7837595,-6.2274156,0  106.7837595  -6.2274156   0\n",
              "4  106.7837273,-6.2276929,0  106.7837273  -6.2276929   0\n",
              "5  106.7836952,-6.2278955,0  106.7836952  -6.2278955   0\n",
              "6  106.7836844,-6.2280235,0  106.7836844  -6.2280235   0\n",
              "7   106.783663,-6.2282155,0   106.783663  -6.2282155   0\n",
              "8  106.7836308,-6.2283328,0  106.7836308  -6.2283328   0\n",
              "9  106.7836522,-6.2284821,0  106.7836522  -6.2284821   0"
            ]
          },
          "metadata": {
            "tags": []
          },
          "execution_count": 15
        }
      ]
    },
    {
      "cell_type": "code",
      "metadata": {
        "id": "3pFI1pHV9pKL"
      },
      "source": [
        "df = df_0[['Lat', 'Long']].astype({\"Lat\": float , \"Long\": float})"
      ],
      "execution_count": 16,
      "outputs": []
    },
    {
      "cell_type": "code",
      "metadata": {
        "colab": {
          "base_uri": "https://localhost:8080/",
          "height": 363
        },
        "id": "ebID9kdV93vt",
        "outputId": "4743b686-06a6-4470-c1f2-64ece51196f3"
      },
      "source": [
        "df.head(10)"
      ],
      "execution_count": 17,
      "outputs": [
        {
          "output_type": "execute_result",
          "data": {
            "text/html": [
              "<div>\n",
              "<style scoped>\n",
              "    .dataframe tbody tr th:only-of-type {\n",
              "        vertical-align: middle;\n",
              "    }\n",
              "\n",
              "    .dataframe tbody tr th {\n",
              "        vertical-align: top;\n",
              "    }\n",
              "\n",
              "    .dataframe thead th {\n",
              "        text-align: right;\n",
              "    }\n",
              "</style>\n",
              "<table border=\"1\" class=\"dataframe\">\n",
              "  <thead>\n",
              "    <tr style=\"text-align: right;\">\n",
              "      <th></th>\n",
              "      <th>Lat</th>\n",
              "      <th>Long</th>\n",
              "    </tr>\n",
              "  </thead>\n",
              "  <tbody>\n",
              "    <tr>\n",
              "      <th>0</th>\n",
              "      <td>106.783878</td>\n",
              "      <td>-6.226456</td>\n",
              "    </tr>\n",
              "    <tr>\n",
              "      <th>1</th>\n",
              "      <td>106.783802</td>\n",
              "      <td>-6.226786</td>\n",
              "    </tr>\n",
              "    <tr>\n",
              "      <th>2</th>\n",
              "      <td>106.783813</td>\n",
              "      <td>-6.227000</td>\n",
              "    </tr>\n",
              "    <tr>\n",
              "      <th>3</th>\n",
              "      <td>106.783760</td>\n",
              "      <td>-6.227416</td>\n",
              "    </tr>\n",
              "    <tr>\n",
              "      <th>4</th>\n",
              "      <td>106.783727</td>\n",
              "      <td>-6.227693</td>\n",
              "    </tr>\n",
              "    <tr>\n",
              "      <th>5</th>\n",
              "      <td>106.783695</td>\n",
              "      <td>-6.227895</td>\n",
              "    </tr>\n",
              "    <tr>\n",
              "      <th>6</th>\n",
              "      <td>106.783684</td>\n",
              "      <td>-6.228023</td>\n",
              "    </tr>\n",
              "    <tr>\n",
              "      <th>7</th>\n",
              "      <td>106.783663</td>\n",
              "      <td>-6.228216</td>\n",
              "    </tr>\n",
              "    <tr>\n",
              "      <th>8</th>\n",
              "      <td>106.783631</td>\n",
              "      <td>-6.228333</td>\n",
              "    </tr>\n",
              "    <tr>\n",
              "      <th>9</th>\n",
              "      <td>106.783652</td>\n",
              "      <td>-6.228482</td>\n",
              "    </tr>\n",
              "  </tbody>\n",
              "</table>\n",
              "</div>"
            ],
            "text/plain": [
              "          Lat      Long\n",
              "0  106.783878 -6.226456\n",
              "1  106.783802 -6.226786\n",
              "2  106.783813 -6.227000\n",
              "3  106.783760 -6.227416\n",
              "4  106.783727 -6.227693\n",
              "5  106.783695 -6.227895\n",
              "6  106.783684 -6.228023\n",
              "7  106.783663 -6.228216\n",
              "8  106.783631 -6.228333\n",
              "9  106.783652 -6.228482"
            ]
          },
          "metadata": {
            "tags": []
          },
          "execution_count": 17
        }
      ]
    },
    {
      "cell_type": "code",
      "metadata": {
        "colab": {
          "base_uri": "https://localhost:8080/"
        },
        "id": "xHOhmCn0_Nzg",
        "outputId": "506aa3a5-bfaf-40fa-af5b-7607645cd016"
      },
      "source": [
        "type(df.loc[1,'Lat'])"
      ],
      "execution_count": 18,
      "outputs": [
        {
          "output_type": "execute_result",
          "data": {
            "text/plain": [
              "numpy.float64"
            ]
          },
          "metadata": {
            "tags": []
          },
          "execution_count": 18
        }
      ]
    },
    {
      "cell_type": "code",
      "metadata": {
        "colab": {
          "base_uri": "https://localhost:8080/"
        },
        "id": "Wu7BwLP7-B72",
        "outputId": "09be86a9-2bb8-43d2-da01-0192aff488f4"
      },
      "source": [
        "df.isna().sum().sum()"
      ],
      "execution_count": 19,
      "outputs": [
        {
          "output_type": "execute_result",
          "data": {
            "text/plain": [
              "0"
            ]
          },
          "metadata": {
            "tags": []
          },
          "execution_count": 19
        }
      ]
    },
    {
      "cell_type": "code",
      "metadata": {
        "id": "sCLaANXz-ht1"
      },
      "source": [
        "distances = []\n",
        "for i in range(len(df)):\n",
        "  if i == 0:\n",
        "    distances.append(0)\n",
        "  else:\n",
        "    lat1 = radians(df.Lat[i])\n",
        "    lon1 = radians(df.Long[i])\n",
        "    lat2 = radians(df.Lat[i-1])\n",
        "    lon2 = radians(df.Long[i-1])\n",
        "\n",
        "    dlon = lon1 - lon2\n",
        "    dlat = lat1 - lat2\n",
        "    #to calculate distace between two points on the earth\n",
        "    a = sin(dlat / 2)**2 + cos(lat1) * cos(lat2) * sin(dlon / 2)**2\n",
        "    c = 2 * atan2(sqrt(a), sqrt(1 - a))\n",
        "    radius_of_world = 6371 #kms\n",
        "    distance = radius_of_world * c\n",
        "    \n",
        "    distances.append(distance*1000)\n",
        "\n",
        "distances = pd.DataFrame(distances)\n",
        "c_distances = distances.cumsum()\n",
        "distances.columns = [\"Dist\"]\n",
        "c_distances.columns = [\"Cdist\"]\n",
        "dframe=pd.concat([df, distances,c_distances], axis=1)"
      ],
      "execution_count": 20,
      "outputs": []
    },
    {
      "cell_type": "code",
      "metadata": {
        "id": "A2OR2MPu3Qts"
      },
      "source": [
        "def find_distance(lat1, lon1, lat2, lon2):\n",
        "  lat1 = radians(lat1)\n",
        "  lon1 = radians(lon1)\n",
        "  lat2 = radians(lat2)\n",
        "  lon2 = radians(lon2)\n",
        "\n",
        "  dlon = lon1 - lon2\n",
        "  dlat = lat1 - lat2\n",
        "  #to calculate distace between two points on the earth\n",
        "  a = sin(dlat / 2)**2 + cos(lat1) * cos(lat2) * sin(dlon / 2)**2\n",
        "  c = 2 * atan2(sqrt(a), sqrt(1 - a))\n",
        "  radius_of_world = 6371 #kms\n",
        "  distance = radius_of_world * c \n",
        "\n",
        "  return distance"
      ],
      "execution_count": 44,
      "outputs": []
    },
    {
      "cell_type": "code",
      "metadata": {
        "colab": {
          "base_uri": "https://localhost:8080/",
          "height": 363
        },
        "id": "LZxqMBR9_GyR",
        "outputId": "c06c9a07-8d81-4221-95b4-60177d58de16"
      },
      "source": [
        "dframe.head(10)"
      ],
      "execution_count": 22,
      "outputs": [
        {
          "output_type": "execute_result",
          "data": {
            "text/html": [
              "<div>\n",
              "<style scoped>\n",
              "    .dataframe tbody tr th:only-of-type {\n",
              "        vertical-align: middle;\n",
              "    }\n",
              "\n",
              "    .dataframe tbody tr th {\n",
              "        vertical-align: top;\n",
              "    }\n",
              "\n",
              "    .dataframe thead th {\n",
              "        text-align: right;\n",
              "    }\n",
              "</style>\n",
              "<table border=\"1\" class=\"dataframe\">\n",
              "  <thead>\n",
              "    <tr style=\"text-align: right;\">\n",
              "      <th></th>\n",
              "      <th>Lat</th>\n",
              "      <th>Long</th>\n",
              "      <th>Dist</th>\n",
              "      <th>Cdist</th>\n",
              "    </tr>\n",
              "  </thead>\n",
              "  <tbody>\n",
              "    <tr>\n",
              "      <th>0</th>\n",
              "      <td>106.783878</td>\n",
              "      <td>-6.226456</td>\n",
              "      <td>0.000000</td>\n",
              "      <td>0.000000</td>\n",
              "    </tr>\n",
              "    <tr>\n",
              "      <th>1</th>\n",
              "      <td>106.783802</td>\n",
              "      <td>-6.226786</td>\n",
              "      <td>13.506183</td>\n",
              "      <td>13.506183</td>\n",
              "    </tr>\n",
              "    <tr>\n",
              "      <th>2</th>\n",
              "      <td>106.783813</td>\n",
              "      <td>-6.227000</td>\n",
              "      <td>6.953293</td>\n",
              "      <td>20.459476</td>\n",
              "    </tr>\n",
              "    <tr>\n",
              "      <th>3</th>\n",
              "      <td>106.783760</td>\n",
              "      <td>-6.227416</td>\n",
              "      <td>14.631153</td>\n",
              "      <td>35.090629</td>\n",
              "    </tr>\n",
              "    <tr>\n",
              "      <th>4</th>\n",
              "      <td>106.783727</td>\n",
              "      <td>-6.227693</td>\n",
              "      <td>9.596680</td>\n",
              "      <td>44.687310</td>\n",
              "    </tr>\n",
              "    <tr>\n",
              "      <th>5</th>\n",
              "      <td>106.783695</td>\n",
              "      <td>-6.227895</td>\n",
              "      <td>7.420107</td>\n",
              "      <td>52.107416</td>\n",
              "    </tr>\n",
              "    <tr>\n",
              "      <th>6</th>\n",
              "      <td>106.783684</td>\n",
              "      <td>-6.228023</td>\n",
              "      <td>4.281755</td>\n",
              "      <td>56.389171</td>\n",
              "    </tr>\n",
              "    <tr>\n",
              "      <th>7</th>\n",
              "      <td>106.783663</td>\n",
              "      <td>-6.228216</td>\n",
              "      <td>6.608146</td>\n",
              "      <td>62.997317</td>\n",
              "    </tr>\n",
              "    <tr>\n",
              "      <th>8</th>\n",
              "      <td>106.783631</td>\n",
              "      <td>-6.228333</td>\n",
              "      <td>5.196635</td>\n",
              "      <td>68.193953</td>\n",
              "    </tr>\n",
              "    <tr>\n",
              "      <th>9</th>\n",
              "      <td>106.783652</td>\n",
              "      <td>-6.228482</td>\n",
              "      <td>5.351900</td>\n",
              "      <td>73.545853</td>\n",
              "    </tr>\n",
              "  </tbody>\n",
              "</table>\n",
              "</div>"
            ],
            "text/plain": [
              "          Lat      Long       Dist      Cdist\n",
              "0  106.783878 -6.226456   0.000000   0.000000\n",
              "1  106.783802 -6.226786  13.506183  13.506183\n",
              "2  106.783813 -6.227000   6.953293  20.459476\n",
              "3  106.783760 -6.227416  14.631153  35.090629\n",
              "4  106.783727 -6.227693   9.596680  44.687310\n",
              "5  106.783695 -6.227895   7.420107  52.107416\n",
              "6  106.783684 -6.228023   4.281755  56.389171\n",
              "7  106.783663 -6.228216   6.608146  62.997317\n",
              "8  106.783631 -6.228333   5.196635  68.193953\n",
              "9  106.783652 -6.228482   5.351900  73.545853"
            ]
          },
          "metadata": {
            "tags": []
          },
          "execution_count": 22
        }
      ]
    },
    {
      "cell_type": "code",
      "metadata": {
        "colab": {
          "base_uri": "https://localhost:8080/",
          "height": 294
        },
        "id": "TEOJa2dVl7hD",
        "outputId": "d621160f-79e1-4afe-95f4-e241d4deff8b"
      },
      "source": [
        "plt.scatter(dframe.Long,dframe.Lat)"
      ],
      "execution_count": 60,
      "outputs": [
        {
          "output_type": "execute_result",
          "data": {
            "text/plain": [
              "<matplotlib.collections.PathCollection at 0x7fdd23234690>"
            ]
          },
          "metadata": {
            "tags": []
          },
          "execution_count": 60
        },
        {
          "output_type": "display_data",
          "data": {
            "image/png": "[encoded data removed]",
            "text/plain": [
              "<Figure size 432x288 with 1 Axes>"
            ]
          },
          "metadata": {
            "tags": [],
            "needs_background": "light"
          }
        }
      ]
    },
    {
      "cell_type": "code",
      "metadata": {
        "colab": {
          "base_uri": "https://localhost:8080/"
        },
        "id": "IgxgrazDt7FI",
        "outputId": "63536228-d899-4ab0-ccac-9677edcf1f52"
      },
      "source": [
        "n = len(df)\n",
        "\n",
        "mid_idx = int(n/2)\n",
        "max_lat = df['Lat'].max()\n",
        "min_lat = df['Lat'].min()\n",
        "mid_lat = df.loc[mid_idx,'Lat']\n",
        "med_lat = df['Lat'].median()\n",
        "\n",
        "max_long = df['Long'].max()\n",
        "min_long = df['Long'].min()\n",
        "mid_long = df.loc[mid_idx,'Long']\n",
        "med_long = df['Long'].median()\n",
        "\n",
        "print(max_lat, mid_lat, med_lat, min_lat)\n",
        "print(max_long, mid_long, med_long, min_long)"
      ],
      "execution_count": 45,
      "outputs": [
        {
          "output_type": "stream",
          "text": [
            "106.7853474 106.7852616 106.7843925 106.7836308\n",
            "-6.226349 -6.2293994 -6.2280235 -6.229698\n"
          ],
          "name": "stdout"
        }
      ]
    },
    {
      "cell_type": "code",
      "metadata": {
        "colab": {
          "base_uri": "https://localhost:8080/"
        },
        "id": "37ZVfqHmvoaE",
        "outputId": "fc4a7f01-906d-402c-ff2e-7e6763751463"
      },
      "source": [
        "h = input('Masukkan h : ')"
      ],
      "execution_count": 46,
      "outputs": [
        {
          "output_type": "stream",
          "text": [
            "Masukkan h : 0.001\n"
          ],
          "name": "stdout"
        }
      ]
    },
    {
      "cell_type": "code",
      "metadata": {
        "colab": {
          "base_uri": "https://localhost:8080/",
          "height": 81
        },
        "id": "9kRegDtdx_yY",
        "outputId": "716a187f-d9b5-4d31-aee4-9693d2b907e6"
      },
      "source": [
        "df.loc[df['Lat']==df['Lat'].median()]"
      ],
      "execution_count": 47,
      "outputs": [
        {
          "output_type": "execute_result",
          "data": {
            "text/html": [
              "<div>\n",
              "<style scoped>\n",
              "    .dataframe tbody tr th:only-of-type {\n",
              "        vertical-align: middle;\n",
              "    }\n",
              "\n",
              "    .dataframe tbody tr th {\n",
              "        vertical-align: top;\n",
              "    }\n",
              "\n",
              "    .dataframe thead th {\n",
              "        text-align: right;\n",
              "    }\n",
              "</style>\n",
              "<table border=\"1\" class=\"dataframe\">\n",
              "  <thead>\n",
              "    <tr style=\"text-align: right;\">\n",
              "      <th></th>\n",
              "      <th>Lat</th>\n",
              "      <th>Long</th>\n",
              "    </tr>\n",
              "  </thead>\n",
              "  <tbody>\n",
              "    <tr>\n",
              "      <th>18</th>\n",
              "      <td>106.784392</td>\n",
              "      <td>-6.229634</td>\n",
              "    </tr>\n",
              "  </tbody>\n",
              "</table>\n",
              "</div>"
            ],
            "text/plain": [
              "           Lat      Long\n",
              "18  106.784392 -6.229634"
            ]
          },
          "metadata": {
            "tags": []
          },
          "execution_count": 47
        }
      ]
    },
    {
      "cell_type": "code",
      "metadata": {
        "id": "4gvdYgXn5dwn"
      },
      "source": [
        "def find_nearest(lat, lon):  \n",
        "  if (lat==0 and lon!=0):\n",
        "    df_nearest = df.iloc[(df['Long']-lon).abs().argsort()[:1]]        \n",
        "  else:\n",
        "    df_nearest = df.iloc[(df['Lat']-lat).abs().argsort()[:1]]\n",
        "  return df_nearest"
      ],
      "execution_count": 48,
      "outputs": []
    },
    {
      "cell_type": "code",
      "metadata": {
        "id": "UI96-la8Gb9P"
      },
      "source": [
        "def find_upper_nearest_long(lat):      \n",
        "  df_nearest = df.loc[df['Lat'] == lat]\n",
        "  if (not df_nearest.empty and df_nearest.iloc[0]['Long'] > mid_long):        \n",
        "    return df_nearest.iloc[0]['Long']\n",
        "  else:\n",
        "    df_nearest = df.iloc[(df['Lat']-lat).abs().argsort()[:2]]    \n",
        "    df_nearest = df_nearest[df_nearest['Long'] > mid_long]      \n",
        "    return df_nearest[\"Long\"].mean()"
      ],
      "execution_count": 49,
      "outputs": []
    },
    {
      "cell_type": "code",
      "metadata": {
        "id": "aMEbRM8tYbAw"
      },
      "source": [
        "def find_lower_nearest_long(lat):\n",
        "  df_nearest = df.loc[df['Lat'] == lat]\n",
        "  if (not df_nearest.empty and df_nearest.iloc[0]['Long'] < mid_long):        \n",
        "    return df_nearest.iloc[0]['Long']\n",
        "  else:\n",
        "    df_nearest = df.iloc[(df['Lat']-lat).abs().argsort()[:3]]    # dicari tiga nilai karena koordinat yang diambil\n",
        "                                                                 # terlalu jarang \n",
        "    df_nearest = df_nearest[df_nearest['Long'] < mid_long]      \n",
        "    return df_nearest[\"Long\"].mean()"
      ],
      "execution_count": 50,
      "outputs": []
    },
    {
      "cell_type": "code",
      "metadata": {
        "id": "a4fhlJqIVJ5a"
      },
      "source": [
        "def find_two_nearest(lat, lon):  \n",
        "  if (lat==0 and lon!=0):\n",
        "    df_nearest = df.iloc[(df['Long']-lon).abs().argsort()[:2]]\n",
        "  else:\n",
        "    df_nearest = df.iloc[(df['Lat']-lat).abs().argsort()[:2]]\n",
        "  return df_nearest"
      ],
      "execution_count": 51,
      "outputs": []
    },
    {
      "cell_type": "code",
      "metadata": {
        "colab": {
          "base_uri": "https://localhost:8080/"
        },
        "id": "es3bsT9hCNEq",
        "outputId": "68ea4e48-ab6e-407c-e2c4-d997fc644d35"
      },
      "source": [
        "# Tentukan start pin sumbu x \n",
        "df_nearest = find_nearest(med_lat,0)\n",
        "x_start = df.loc[n-1,'Lat']\n",
        "\n",
        "# Tentukan start pin sumbu y\n",
        "df_nearest = find_nearest(0,med_long)\n",
        "y_start = df.loc[n-1,'Long']\n",
        "\n",
        "print(x_start, y_start)"
      ],
      "execution_count": 52,
      "outputs": [
        {
          "output_type": "stream",
          "text": [
            "106.7838775 -6.2264557\n"
          ],
          "name": "stdout"
        }
      ]
    },
    {
      "cell_type": "code",
      "metadata": {
        "colab": {
          "base_uri": "https://localhost:8080/"
        },
        "id": "0KQuD2Jux1eE",
        "outputId": "6bcf3c24-675d-4ea3-c679-e3767d957372"
      },
      "source": [
        "# Menghitung Kuadran 1\n",
        "\n",
        "i = x_start\n",
        "luas_kuadran1 = 0\n",
        "while i < max_lat:\n",
        "  p = find_distance(i, mid_long, (i+float(h)), mid_long)\n",
        "  t = find_distance(i, mid_long, i, find_upper_nearest_long(i))\n",
        "  luas_kuadran1 += p*t\n",
        "  i += float(h)\n",
        "\n",
        "print(luas_kuadran1)"
      ],
      "execution_count": 53,
      "outputs": [
        {
          "output_type": "stream",
          "text": [
            "0.021401655462132217\n"
          ],
          "name": "stdout"
        }
      ]
    },
    {
      "cell_type": "code",
      "metadata": {
        "colab": {
          "base_uri": "https://localhost:8080/"
        },
        "id": "teeKjM6j0xRh",
        "outputId": "c8e3286e-dbb4-454d-dc98-4e1949331f7f"
      },
      "source": [
        "# Menghitung Kuadran 2\n",
        "\n",
        "i = x_start\n",
        "luas_kuadran2 = 0\n",
        "while i > min_lat:    \n",
        "  p = find_distance(i, mid_long, (i-float(h)), mid_long)  \n",
        "  t = find_distance(i, mid_long, i, find_upper_nearest_long(i))    \n",
        "  luas_kuadran2 += p*t\n",
        "  i -= float(h)\n",
        "\n",
        "print(luas_kuadran2)"
      ],
      "execution_count": 54,
      "outputs": [
        {
          "output_type": "stream",
          "text": [
            "0.010510034531560563\n"
          ],
          "name": "stdout"
        }
      ]
    },
    {
      "cell_type": "code",
      "metadata": {
        "colab": {
          "base_uri": "https://localhost:8080/"
        },
        "id": "5Fr78bsx1WfS",
        "outputId": "bf926dfb-97d9-4110-f1a6-0a1ad0fc2874"
      },
      "source": [
        "# Menghitung Kuadran 3\n",
        "\n",
        "i = x_start\n",
        "luas_kuadran3 = 0\n",
        "while i > min_lat:  \n",
        "  p = find_distance(i, mid_long, (i-float(h)), mid_long)\n",
        "  t = find_distance(i, mid_long, i, find_lower_nearest_long(i))\n",
        "  luas_kuadran3 += p*t\n",
        "  i -= float(h)\n",
        "\n",
        "print(luas_kuadran3)"
      ],
      "execution_count": 55,
      "outputs": [
        {
          "output_type": "stream",
          "text": [
            "3.784569284969975e-05\n"
          ],
          "name": "stdout"
        }
      ]
    },
    {
      "cell_type": "code",
      "metadata": {
        "colab": {
          "base_uri": "https://localhost:8080/"
        },
        "id": "VNq3ztfx1l9N",
        "outputId": "8d41d550-6751-46db-9ba3-0d2b1a6c9a76"
      },
      "source": [
        "# Menghitung Kuadran 4\n",
        "\n",
        "i = x_start\n",
        "luas_kuadran4 = 0\n",
        "while i < max_lat:  \n",
        "  p = find_distance(i, mid_long, (i+float(h)), mid_long)\n",
        "  t = find_distance(i, mid_long, i, find_lower_nearest_long(i))\n",
        "  luas_kuadran4 += p*t\n",
        "  i += float(h)\n",
        "\n",
        "print(luas_kuadran4)"
      ],
      "execution_count": 56,
      "outputs": [
        {
          "output_type": "stream",
          "text": [
            "0.0009137028310998968\n"
          ],
          "name": "stdout"
        }
      ]
    },
    {
      "cell_type": "code",
      "metadata": {
        "id": "CKBdDHk31_5S"
      },
      "source": [
        "luas_total = luas_kuadran1+luas_kuadran2+luas_kuadran3+luas_kuadran4;"
      ],
      "execution_count": 57,
      "outputs": []
    },
    {
      "cell_type": "code",
      "metadata": {
        "colab": {
          "base_uri": "https://localhost:8080/"
        },
        "id": "Md-FuiNI1yQU",
        "outputId": "96a444b1-c221-440d-df9d-25972c721e42"
      },
      "source": [
        "print('Luas total adalah : ', luas_total)"
      ],
      "execution_count": 58,
      "outputs": [
        {
          "output_type": "stream",
          "text": [
            "Luas total adalah :  0.03286323851764238\n"
          ],
          "name": "stdout"
        }
      ]
    },
    {
      "cell_type": "code",
      "metadata": {
        "colab": {
          "base_uri": "https://localhost:8080/"
        },
        "id": "M8uLfKYWf2fc",
        "outputId": "3d98fd40-06c4-484a-959e-b3ed6edd0038"
      },
      "source": [
        "result_referensi = 0.06\n",
        "error = abs(result_referensi-luas_total)/abs(result_referensi)\n",
        "print(f\"{error:.0%}\")\n"
      ],
      "execution_count": 59,
      "outputs": [
        {
          "output_type": "stream",
          "text": [
            "45%\n"
          ],
          "name": "stdout"
        }
      ]
    },
    {
      "cell_type": "code",
      "metadata": {
        "colab": {
          "base_uri": "https://localhost:8080/",
          "height": 81
        },
        "id": "JjKY2i00yh2J",
        "outputId": "ed3afd13-96b6-4096-adc0-7661fc064573"
      },
      "source": [
        "df.loc[df['Long']==med_long]"
      ],
      "execution_count": 39,
      "outputs": [
        {
          "output_type": "execute_result",
          "data": {
            "text/html": [
              "<div>\n",
              "<style scoped>\n",
              "    .dataframe tbody tr th:only-of-type {\n",
              "        vertical-align: middle;\n",
              "    }\n",
              "\n",
              "    .dataframe tbody tr th {\n",
              "        vertical-align: top;\n",
              "    }\n",
              "\n",
              "    .dataframe thead th {\n",
              "        text-align: right;\n",
              "    }\n",
              "</style>\n",
              "<table border=\"1\" class=\"dataframe\">\n",
              "  <thead>\n",
              "    <tr style=\"text-align: right;\">\n",
              "      <th></th>\n",
              "      <th>Lat</th>\n",
              "      <th>Long</th>\n",
              "    </tr>\n",
              "  </thead>\n",
              "  <tbody>\n",
              "    <tr>\n",
              "      <th>6</th>\n",
              "      <td>106.783684</td>\n",
              "      <td>-6.228023</td>\n",
              "    </tr>\n",
              "  </tbody>\n",
              "</table>\n",
              "</div>"
            ],
            "text/plain": [
              "          Lat      Long\n",
              "6  106.783684 -6.228023"
            ]
          },
          "metadata": {
            "tags": []
          },
          "execution_count": 39
        }
      ]
    },
    {
      "cell_type": "code",
      "metadata": {
        "colab": {
          "base_uri": "https://localhost:8080/"
        },
        "id": "bNJEhpRM6Hcf",
        "outputId": "a7153330-0adc-49f1-8a03-5531dcdb523d"
      },
      "source": [
        "df.loc[n-1,'Long']"
      ],
      "execution_count": 40,
      "outputs": [
        {
          "output_type": "execute_result",
          "data": {
            "text/plain": [
              "-6.2264557"
            ]
          },
          "metadata": {
            "tags": []
          },
          "execution_count": 40
        }
      ]
    },
    {
      "cell_type": "code",
      "metadata": {
        "id": "5UyfXfmtRVUC",
        "colab": {
          "base_uri": "https://localhost:8080/",
          "height": 133
        },
        "outputId": "ba07b991-d062-486e-92de-5173e59fdd3f"
      },
      "source": [
        "if df.empty:\n",
        "    df_y = df.loc[df['Lat']==i]\n",
        "    y = df.loc[0,'Long']\n",
        "  else:\n",
        "    y = df_y.loc[0,'Long']"
      ],
      "execution_count": 41,
      "outputs": [
        {
          "output_type": "error",
          "ename": "IndentationError",
          "evalue": "ignored",
          "traceback": [
            "\u001b[0;36m  File \u001b[0;32m\"<ipython-input-41-54a52f9016fc>\"\u001b[0;36m, line \u001b[0;32m4\u001b[0m\n\u001b[0;31m    else:\u001b[0m\n\u001b[0m         ^\u001b[0m\n\u001b[0;31mIndentationError\u001b[0m\u001b[0;31m:\u001b[0m unindent does not match any outer indentation level\n"
          ]
        }
      ]
    },
    {
      "cell_type": "code",
      "metadata": {
        "id": "01fwVuXJ31tg"
      },
      "source": [
        "result_index = df['Long'].sub(med_long).abs().idxmin()"
      ],
      "execution_count": null,
      "outputs": []
    },
    {
      "cell_type": "code",
      "metadata": {
        "id": "2TbQx5Xq4lBO"
      },
      "source": [
        "med_lat"
      ],
      "execution_count": null,
      "outputs": []
    }
  ]
}